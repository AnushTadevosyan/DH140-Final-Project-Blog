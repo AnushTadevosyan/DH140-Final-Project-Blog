{
 "cells": [
  {
   "cell_type": "markdown",
   "id": "e33f558d",
   "metadata": {},
   "source": [
    "---\n",
    "title: \"First File\"\n",
    "description: \"Testing Quarto\"\n",
    "author: \"Anush Tadevosyan\"\n",
    "date: \"07/26/2023\"\n",
    "date-modified: \"07/29/2023\"\n",
    "---\n"
   ]
  }
 ],
 "metadata": {
  "kernelspec": {
   "display_name": "Python 3 (ipykernel)",
   "language": "python",
   "name": "python3"
  },
  "language_info": {
   "codemirror_mode": {
    "name": "ipython",
    "version": 3
   },
   "file_extension": ".py",
   "mimetype": "text/x-python",
   "name": "python",
   "nbconvert_exporter": "python",
   "pygments_lexer": "ipython3",
   "version": "3.10.11"
  }
 },
 "nbformat": 4,
 "nbformat_minor": 5
}
